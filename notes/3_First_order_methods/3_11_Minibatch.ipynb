{
 "cells": [
  {
   "cell_type": "markdown",
   "metadata": {},
   "source": [
    "## Chapter 3: First order methods"
   ]
  },
  {
   "cell_type": "markdown",
   "metadata": {},
   "source": [
    "# A.5 Mini-Batch Optimization"
   ]
  },
  {
   "cell_type": "markdown",
   "metadata": {},
   "source": [
    "In machine learning applications we almost never tasked with minimizing a single mathematical function, but one that consist a *sum* of $P$ functions.  In other words the sort of function $g$ we very often need to minimize in machine learning applications takes the general form \n",
    "\n",
    "\\begin{equation}\n",
    "g\\left(\\mathbf{w}\\right) = \\sum_{p=1}^P g_p\\left(\\mathbf{w}\\right).\n",
    "\\end{equation}\n",
    "\n",
    "where $g_1,\\,g_2,\\,...,g_P$ are mathematical functions themselves.  In machine learning applications hese functions $g_1,\\,g_2,\\,...,g_P$ are almost always of the same type - e.g., they can be convex quadratic functions with different constants paramterized by the same weights $\\mathbf{w}$.  \n",
    "\n",
    "This special *summation structure* allows for a simple but very effective enhancement to virtually any local optimization scheme, and is called *mini-batch optimization*.  Mini-batch optimization is most often used in combination with a gradient-based step like any of those discussed in the prior Sections, which is why we discuss the subject in this Chapter."
   ]
  },
  {
   "cell_type": "code",
   "execution_count": 1,
   "metadata": {},
   "outputs": [],
   "source": [
    "# append path for local library, data, and image import\n",
    "import sys\n",
    "sys.path.append('./chapter_3_library')\n",
    "sys.path.append('./chapter_3_images') \n",
    "\n",
    "# import section helper\n",
    "import section_3_11_helpers\n",
    "\n",
    "# image paths\n",
    "image_path_1 = 'chapter_3_images/batch_vs_miinbatch_functions.png'\n",
    "image_path_2 = 'chapter_3_images/minibatch_functions.png'\n",
    "\n",
    "# standard imports\n",
    "import matplotlib.pyplot as plt\n",
    "import IPython\n",
    "\n",
    "# import autograd-wrapped numpy\n",
    "import autograd.numpy as np\n",
    "from autograd import value_and_grad \n",
    "from autograd.misc.flatten import flatten_func\n",
    "\n",
    "# this is needed to compensate for matplotlib notebook's tendancy to blow up images when plotted inline\n",
    "%matplotlib inline\n",
    "from matplotlib import rcParams\n",
    "rcParams['figure.autolayout'] = True\n",
    "\n",
    "%load_ext autoreload\n",
    "%autoreload 2"
   ]
  },
  {
   "cell_type": "markdown",
   "metadata": {},
   "source": [
    "## A simple idea with powerful consequences"
   ]
  },
  {
   "cell_type": "markdown",
   "metadata": {},
   "source": [
    "Suppose we were to apply a local optimization scheme to minimize a function $g$ of the form\n",
    "\n",
    "\\begin{equation}\n",
    "g\\left(\\mathbf{w}\\right) = \\sum_{p=1}^P g_p\\left(\\mathbf{w}\\right).\n",
    "\\end{equation}\n",
    "\n",
    "\n",
    "where $g_1\\,g_2,\\,...,g_P$ are all functions of the same kind (e.g., quadratics with different constants parameterized by $\\mathbf{w}$).  "
   ]
  },
  {
   "cell_type": "markdown",
   "metadata": {},
   "source": [
    "The motivation for *mini-batch optimization* rests on a simple inquiry: for this sort of function $g$, what would happen if instead of taking one descent step in $g$ - that is, one descent step in the entire sum of the functions $g_1,\\,g_2,\\,...,g_P$ *simultaneously* - we took a sequence of $P$ descent steps in $g_1,\\,g_2,\\,...,g_P$ *sequentially* by first descending in $g_1$, then in $g_2$, etc., until finally we descend in $g_P$.  In other words, what would happen if we were to try to minimize $g$ by taking descent steps in the summand functions $g_1,\\,g_2,\\,...,g_P$ one-at-a-time?   As we will see empircaly throughout this text, starting with the examples below, in many instances this idea can actually lead to considerably faster optimization of a function $g$ consisting of a sum of $P$ functions as detailed in general above above.\n",
    "\n",
    " The gist of this idea is drawn graphically in the figure below for the case $P = 3$, where we compare the idea of taking a the a descent step simultaneously in $g_1,\\,g_2,\\,...,g_P$ versus a sequence of $P$ descent steps in $g_1$ then $g_2$ etc., up to $g_P$. "
   ]
  },
  {
   "cell_type": "code",
   "execution_count": 2,
   "metadata": {},
   "outputs": [
    {
     "data": {
      "text/html": [
       "<img src=\"chapter_3_images/batch_vs_miinbatch_functions.png\" width=\"75%\" height=\"auto\" alt=\"\"/>"
      ],
      "text/plain": [
       "<IPython.core.display.HTML object>"
      ]
     },
     "execution_count": 2,
     "metadata": {},
     "output_type": "execute_result"
    }
   ],
   "source": [
    "IPython.display.HTML('''<img src=\"''' + image_path_1 + '''\" width=\"75%\" height=\"auto\" alt=\"\"/>''')"
   ]
  },
  {
   "cell_type": "markdown",
   "metadata": {},
   "source": [
    "Taking the first step of a local method, we begin at some initial point $\\mathbf{w}^0$, determine a descent direction $\\mathbf{d}^0$, and transition to a new point $\\mathbf{w}^1$ as \n",
    "\n",
    "\\begin{equation}\n",
    "\\mathbf{w}^1 = \\mathbf{w}^0 + \\alpha \\, \\mathbf{d}^0.\n",
    "\\end{equation}\n",
    "\n",
    "By analogy, if we were to follow the mini-batch idea detailed above this entails taking a sequence of $P$ steps, which we now describe.  If we call our initial point $\\mathbf{w}^{0,0} = \\mathbf{w}^0$, we then first determine a descent direction $\\mathbf{d}^{0,1}$ in $g_1$, the first function in the sum of $g$, and take a step in this direction as\n",
    "\n",
    "\\begin{equation}\n",
    "\\mathbf{w}^{0,1} = \\mathbf{w}^{0,0} + \\alpha \\, \\mathbf{d}^{0,1}.\n",
    "\\end{equation}\n",
    "\n",
    "Next we determine a descent direction $\\mathbf{d}^{0,2}$ in $g_2$, the second function in the sum for $g$, and take a step in this direction\n",
    "\n",
    "\\begin{equation}\n",
    "\\mathbf{w}^{0,2} = \\mathbf{w}^{0,1} + \\alpha \\, \\mathbf{d}^{0,2}.\n",
    "\\end{equation}\n",
    "\n",
    "Continuing this pattern we take a sequence of $P$ steps, where $\\mathbf{d}^{0,p}$ is the descent direction found in $g_p$, that takes the following form\n",
    "\n",
    "\\begin{array}\n",
    "\\mathbf{w}^{0,1} = \\mathbf{w}^{0,0} + \\alpha \\, \\mathbf{d}^{0,1} \\\\\n",
    "\\mathbf{w}^{0,2} = \\mathbf{w}^{0,1} + \\alpha \\, \\mathbf{d}^{0,2} \\\\\n",
    "\\,\\,   \\,\\,\\,\\,\\,\\,   \\,\\,\\,\\,\\,\\,     \\,\\,\\,\\,\\,\\,   \\vdots \\\\\n",
    "\\mathbf{w}^{0,p} = \\mathbf{w}^{0,p-1} + \\alpha \\, \\mathbf{d}^{0,p} \\\\\n",
    "\\,\\,   \\,\\,\\,\\,\\,\\,   \\,\\,\\,\\,\\,\\,     \\,\\,\\,\\,\\,\\,   \\vdots \\\\\n",
    "\\mathbf{w}^{0,P} = \\mathbf{w}^{0,P-1} + \\alpha \\, \\mathbf{d}^{0,P} \\\\\n",
    "\\end{array}"
   ]
  },
  {
   "cell_type": "markdown",
   "metadata": {},
   "source": [
    "This sequence of steps completes one sweep through the functions $g_1,\\,g_2,\\,...,g_P$, and is commonly referred to as an *epoch*. If we continued this pattern and took another sweep through each the $P$ functions we perform a second *epoch* of steps, and so on.  Below we compare the $k^{th}$ step of a standard descent method (left) to the $k^{th}$ *epoch* of this mini-batch idea (right).  \n",
    "\n",
    "\n",
    "\\begin{array} {r|r} \n",
    "\\text{full (batch) descent step}  & \\text{mini-batch epoch, batch-size = 1} \\\\\n",
    "\\hline\n",
    "  &  \\mathbf{w}^{k,1} = \\mathbf{w}^{k-1,0} + \\alpha \\, \\mathbf{d}^{k-1,1}   \\\\\n",
    "  &     \\vdots   \\,\\,\\,\\,\\,\\,     \\,\\,\\,\\,\\,\\,  \\,\\,\\,\\,\\,\\,     \\,\\,\\,\\,\\,\\,   \\\\\n",
    "\\mathbf{w}^{k} = \\mathbf{w}^{k-1} + \\alpha \\, \\mathbf{d}^{k-1}   &  \\mathbf{w}^{k,p} = \\mathbf{w}^{k-1,p-1} + \\alpha \\, \\mathbf{d}^{k-1,p} \\\\\n",
    "  &       \\vdots   \\,\\,\\,\\,\\,\\,     \\,\\,\\,\\,\\,\\,  \\,\\,\\,\\,\\,\\,     \\,\\,\\,\\,\\,\\,   \\\\\n",
    "  &  \\mathbf{w}^{k,P} = \\mathbf{w}^{k-1,P-1} + \\alpha \\, \\mathbf{d}^{k-1,P} \\\\\n",
    "\\end{array}"
   ]
  },
  {
   "cell_type": "markdown",
   "metadata": {
    "collapsed": true
   },
   "source": [
    "When employed with gradient-based steps these steps take a very convinent form.  For example, noting that $\\nabla g\\left(\\mathbf{w}\\right) = \\nabla \\sum_{p=1}^P g_p\\left(\\mathbf{w}\\right)$ the $k^{th}$ standard gradient descent step in all $P$ summands can be written as\n",
    "\n",
    "\\begin{equation}\n",
    "\\mathbf{w}^k = \\mathbf{w}^{k-1} - \\alpha \\nabla \\,\\sum_{p=1}^P g_p\\left(\\mathbf{w}^{k-1}\\right)\n",
    "\\end{equation}\n",
    "\n",
    "where here the descent direction $\\mathbf{d}^{k-1} = - \\nabla \\,\\sum_{p=1}^P g_p\\left(\\mathbf{w}^{k-1}\\right)$.  The gradient descent direction in just a single function $g_p$ at the $k^{th}$ epoch of a mini-batch run is likewise just *negative gradient of this function alone* $ \\mathbf{d}^{k-1,p} = - \\nabla  g_p\\left(\\mathbf{w}^{k-1,p}\\right)$, and so the step minibatch step $\\mathbf{w}^{k,p} = \\mathbf{w}^{k-1,p-1} + \\alpha \\, \\mathbf{d}^{k-1,p}$ is given by\n",
    "\n",
    "\\begin{equation}\n",
    "\\mathbf{w}^{k,p} = \\mathbf{w}^{k-1,p-1} - \\alpha \\,\\nabla g_p\\left(\\mathbf{w}^{k-1,p}\\right).\n",
    "\\end{equation}\n",
    "\n",
    "The table above comparing a single descent step at the $k^{th}$ epoch of standard gradient descent to its analagous mini-batch epoch can then be written as follows below."
   ]
  },
  {
   "cell_type": "markdown",
   "metadata": {
    "collapsed": true
   },
   "source": [
    "\n",
    "\\begin{array} {r|r} \n",
    "\\text{full (batch) descent step}  & \\text{mini-batch epoch, batch-size = 1} \\\\\n",
    "\\hline\n",
    "  &  \\mathbf{w}^{k,1} = \\mathbf{w}^{k-1,0} - \\alpha \\,\\nabla g_1\\left(\\mathbf{w}^{k-1,1}\\right)   \\\\\n",
    "  &     \\vdots   \\,\\,\\,\\,\\,\\,     \\,\\,\\,\\,\\,\\,  \\,\\,\\,\\,\\,\\,     \\,\\,\\,\\,\\,\\,   \\\\\n",
    "\\mathbf{w}^k = \\mathbf{w}^{k-1} - \\alpha \\,\\nabla\\sum_{p=1}^P  g_p\\left(\\mathbf{w}^{k-1}\\right)  &  \\mathbf{w}^{k,p} = \\mathbf{w}^{k-1,p-1} - \\alpha \\,\\nabla g_p\\left(\\mathbf{w}^{k-1,p}\\right) \\\\\n",
    "  &       \\vdots   \\,\\,\\,\\,\\,\\,     \\,\\,\\,\\,\\,\\,  \\,\\,\\,\\,\\,\\,     \\,\\,\\,\\,\\,\\,   \\\\\n",
    "  &  \\mathbf{w}^{k,P} = \\mathbf{w}^{k-1,P-1} - \\alpha \\,\\nabla g_P\\left(\\mathbf{w}^{k-1,P}\\right)  \\\\\n",
    "\\end{array}"
   ]
  },
  {
   "cell_type": "markdown",
   "metadata": {},
   "source": [
    "##   Descending with larger mini-batch sizes"
   ]
  },
  {
   "cell_type": "markdown",
   "metadata": {},
   "source": [
    "Instead of taking $P$ sequential steps in single functions $g_p$ (a mini-batch of *size $1$*) one-at-a-time, we can more general (with functions $g$ that take the form $g\\left(\\mathbf{w}\\right) = \\sum_{p=1}^P g_p\\left(\\mathbf{w}\\right)$) take fewer steps in one epoch, but take each step with respect to *several* of the functions $g_p$ e.g., two functions at-a-time, or three functions at-a-time, etc.,.  With this slight twist on the idea detailed above we take fewer steps per epoch but take each with respect to larger non-overlapping subsets of the functions $g_1,\\,g_2,\\,...,g_P$, but still sweep through each function exactly once per epoch. "
   ]
  },
  {
   "cell_type": "markdown",
   "metadata": {},
   "source": [
    "Choosing a general batch size we split up our listing of functions into $M$ subsets, where each subset has the same size with perhaps the exception of one (e.g., if $P = 5$ and we choose a batch size of $2$ then we will have two subsets of two functions with a final subset containing just one).  If we denote $\\Omega_{m}$ the set of indices of those summand functions $g_1,\\,g_2,\\,...,g_P$ in our $m^{th}$ mini-batch then during our $k^{th}$ epoch we take steps like those shown in the table below.  Here $\\mathbf{d}^{k-1,m}$ is the descent direction computed for the $m^{th}$ minibatch."
   ]
  },
  {
   "cell_type": "markdown",
   "metadata": {},
   "source": [
    "\n",
    "\n",
    "\\begin{array} {r|r} \n",
    "\\text{full (batch) descent step}  & \\text{mini-batch epoch, batch-size = M} \\\\\n",
    "\\hline\n",
    "  &  \\mathbf{w}^{k,1} = \\mathbf{w}^{k-1,0} + \\alpha \\, \\mathbf{d}^{k-1,1}   \\\\\n",
    "  &     \\vdots   \\,\\,\\,\\,\\,\\,     \\,\\,\\,\\,\\,\\,  \\,\\,\\,\\,\\,\\,     \\,\\,\\,\\,\\,\\,   \\\\\n",
    "\\mathbf{w}^{k} = \\mathbf{w}^{k-1} + \\alpha \\, \\mathbf{d}^{k-1}   &  \\mathbf{w}^{k,m} = \\mathbf{w}^{k-1,m-1} + \\alpha \\, \\mathbf{d}^{k-1,m} \\\\\n",
    "  &       \\vdots   \\,\\,\\,\\,\\,\\,     \\,\\,\\,\\,\\,\\,  \\,\\,\\,\\,\\,\\,     \\,\\,\\,\\,\\,\\,   \\\\\n",
    "  &  \\mathbf{w}^{k,M} = \\mathbf{w}^{k-1,M-1} + \\alpha \\, \\mathbf{d}^{k-1,M} \\\\\n",
    "\\end{array}"
   ]
  },
  {
   "cell_type": "markdown",
   "metadata": {},
   "source": [
    "\n",
    "The size of the subset used is called the *batch-size* of the proces e.g., in our description of the mini-batch optimization scheme above we used batch-size = $1$ (mini-batch optimization using a batch-size of $1$ is also often referred to as *stochastic optimization*).  What batch-size works best in practice - in terms of providing the greatest speed up in optimization - varies and is often problem dependent."
   ]
  },
  {
   "cell_type": "markdown",
   "metadata": {},
   "source": [
    "Once again in the case of gradient-based methods a mini-batch step using a batch size greater than $1$ can be written out quite clearly, and just as easily implemented.  If we denote by $\\Omega_m$ the set of indices of our summand functions $g_1,\\,g_2,\\,...,g_P$ in the $m^{th}$ mini-batch , then during the $k^{th}$ epoch of our mini-batch optimization if we use the standard gradient method our descent direction is simply the negative gradient direction in the sum of these functions i.e., \n",
    "\n",
    "\\begin{equation}\n",
    "\\mathbf{d}^{k-1,m} = - \\nabla \\,\\sum_{p \\in \\Omega_m} g_p\\left(\\mathbf{w}^{k-1,m}\\right).\n",
    "\\end{equation}\n",
    "\n",
    "Our corresponding epoch of mini-batch steps with batch size $M$ looks as follows."
   ]
  },
  {
   "cell_type": "markdown",
   "metadata": {
    "collapsed": true
   },
   "source": [
    "\n",
    "\\begin{array} {r|r} \n",
    "\\text{full (batch) descent step}  & \\text{mini-batch epoch, batch-size = M} \\\\\n",
    "\\hline\n",
    "  &  \\mathbf{w}^{k,1} = \\mathbf{w}^{k-1,0} - \\alpha \\nabla \\,\\sum_{p \\in \\Omega_1} g_p\\left(\\mathbf{w}^{k-1,1}\\right)   \\\\\n",
    "  &     \\vdots   \\,\\,\\,\\,\\,\\,     \\,\\,\\,\\,\\,\\,  \\,\\,\\,\\,\\,\\,     \\,\\,\\,\\,\\,\\,   \\,\\,\\,\\,\\,\\,   \\,\\,\\,\\,\\,\\,   \\\\\n",
    "\\mathbf{w}^k = \\mathbf{w}^{k-1} - \\alpha \\,\\nabla\\sum_{p=1}^P g_p\\left(\\mathbf{w}^{k-1}\\right)  &  \\mathbf{w}^{k,m} = \\mathbf{w}^{k-1,m-1} - \\alpha \\nabla \\,\\sum_{p \\in \\Omega_m} g_p\\left(\\mathbf{w}^{k-1,m}\\right) \\\\\n",
    "  &       \\vdots   \\,\\,\\,\\,\\,\\,     \\,\\,\\,\\,\\,\\,  \\,\\,\\,\\,\\,\\,     \\,\\,\\,\\,\\,\\,  \\,\\,\\,\\,\\,\\,   \\,\\,\\,\\,\\,\\,   \\\\\n",
    "  &  \\mathbf{w}^{k,M} = \\mathbf{w}^{k-1,M-1} - \\alpha \\nabla \\,\\sum_{p \\in \\Omega_M} g_p\\left(\\mathbf{w}^{k-1,M}\\right)   \\\\\n",
    "\\end{array}"
   ]
  },
  {
   "cell_type": "markdown",
   "metadata": {},
   "source": [
    "## Mini-batch optimization general performance"
   ]
  },
  {
   "cell_type": "markdown",
   "metadata": {},
   "source": [
    "Is the trade-off - taking more steps per epoch with a mini-batch approach as opposed a full descent step - worth the extra effort?  Typically *yes*.  Often in practice when minimizing machine learning functions an epoch of mini-batch steps like those detailed above will drastically outperform an analagous full descent step - often referred to as a *full batch* or simply a *batch* epoch in the context of mini-batch optimiztaion.  \n",
    "A prototypical comparison of a cost function history employing a batch and corresponding epochs of mini-batch optimization applied to the same hypothetical function $g$ with the same initialization $\\mathbf{w}^0$ is shown in the figure below.  Because we take far more steps with the mini-batch approach and because each $g_p$ takes the same form, each epoch of the mini-batch approach typically outperforms its full batch analog.  Even when taking into account that far more descent steps are taken during an epoch of mini-batch optimization the method often greatly outperforms its full batch analog."
   ]
  },
  {
   "cell_type": "code",
   "execution_count": 3,
   "metadata": {},
   "outputs": [
    {
     "data": {
      "text/html": [
       "<img src=\"chapter_3_images/minibatch_functions.png\" width=\"80%\" height=\"auto\" alt=\"\"/>"
      ],
      "text/plain": [
       "<IPython.core.display.HTML object>"
      ]
     },
     "execution_count": 3,
     "metadata": {},
     "output_type": "execute_result"
    }
   ],
   "source": [
    "IPython.display.HTML('''<img src=\"''' + image_path_2 + '''\" width=\"80%\" height=\"auto\" alt=\"\"/>''')"
   ]
  },
  {
   "cell_type": "markdown",
   "metadata": {},
   "source": [
    "#### <span style=\"color:#a50e3e;\">Example 1. </span>  Minimizing a sum of quadratic functions via gradient based mini-batch optimization"
   ]
  },
  {
   "cell_type": "markdown",
   "metadata": {},
   "source": [
    "In this example we will compare a full batch and two mini-batch runs (using batch-size $1$ and $10$ respectively) employing the standard gradient descent method.  The function $g$ we minimize in these various runs is as sum of $P = 100$ single input convex quadratic functions $g_p(w) = a^{\\,}_p + b_pw + c_pw^2$.  In other words, our function $g$ takes the form\n",
    "\n",
    "\\begin{equation}\n",
    "g\\left(\\mathbf{w}\\right) = \\sum_{p=1}^P g_p(w) = \\sum_{p=1}^P\\left( a^{\\,}_p + b_pw + c_pw^2\\right)\n",
    "\\end{equation}\n",
    "\n",
    "All three runs use the same (random) initial point $w^0 = 0$ and a steplength / learning rate $\\alpha = 10^{0}$ and we take $2$ epochs of each method."
   ]
  },
  {
   "cell_type": "markdown",
   "metadata": {},
   "source": [
    "Below we plot the cost function history plots associated with the full batch (shown in blue), mini-batch with batch-sizes equal to $10$ and $1$ (in magenta and black respectively).  In the left panel we show these three histories with respect to the batch-size = $1$ steps, that is we show the cost function value at every single step of the batch-size = $1$ method and plot the histories of our other mini-batch method every $10$ steps and full batch method every $100$ steps for visual comparison.  In the right panel we show all three histories only after each full epoch is complete.  From these plots can see clearly that both mini-batch approaches descended significantly faster than their full batch version."
   ]
  },
  {
   "cell_type": "code",
   "execution_count": 4,
   "metadata": {},
   "outputs": [],
   "source": [
    "class Quad_Sum:\n",
    "    '''\n",
    "    A small tool for creating a convex quadratic function that is a sum of convex quadratics, using iter\n",
    "    to enable easy access to each of the quadratic functions / summands\n",
    "    '''\n",
    "    # function for creating constants of quadratic sum, here N is input dimension, P = number of summands\n",
    "    def create_quadratic_constants(self,N,P): \n",
    "        # create list of random matrices, one for each term\n",
    "        const_list = []\n",
    "        for i in range(P):\n",
    "            # generate constant\n",
    "            a = np.random.randn(1,1)\n",
    "\n",
    "            # generate b vector\n",
    "            b = np.random.randn(N,1)\n",
    "\n",
    "            # generate matrix\n",
    "            C = np.random.randn(N, N)\n",
    "            C = np.dot(C.T, C)\n",
    "            const_list.append([a,b,C]) \n",
    "\n",
    "        self.const_list = const_list\n",
    "        \n",
    "    # final sum of quadratics\n",
    "    def g(self,w,iter):\n",
    "        cost = 0\n",
    "        for i in iter:\n",
    "            # get quadratic\n",
    "            const = self.const_list[i]\n",
    "            a = const[0]\n",
    "            b = const[1]\n",
    "            C = const[2]\n",
    "            \n",
    "            # add to term\n",
    "            cost += (a + np.dot(b.T,w) + np.dot(np.dot(w.T,C),w))[0]\n",
    "        return cost/P\n",
    "    \n",
    "# Use the simple generator above to create an instance of the desired sum of convex quadratics\n",
    "N = 1       # input dimension\n",
    "P = 100     # number of convex quadratics / summands in function\n",
    "demo = Quad_Sum()\n",
    "demo.create_quadratic_constants(N,P)\n",
    "g = demo.g    "
   ]
  },
  {
   "cell_type": "code",
   "execution_count": 5,
   "metadata": {},
   "outputs": [],
   "source": [
    "# minibatch gradient descent\n",
    "def gradient_descent(g, alpha, max_epochs, w, num_train, batch_size):        \n",
    "    # flatten the input function, create gradient based on flat function\n",
    "    g_flat, unflatten, w = flatten_func(g, w)\n",
    "    grad = value_and_grad(g_flat)\n",
    "\n",
    "    # record history\n",
    "    w_hist = [unflatten(w)]\n",
    "    train_hist = [g_flat(w,np.arange(num_train))]\n",
    "   \n",
    "    # how many mini-batches equal the entire dataset?\n",
    "    num_batches = int(np.ceil(np.divide(num_train, batch_size)))\n",
    "\n",
    "    # over the line\n",
    "    for k in range(max_epochs):                   \n",
    "        # loop over each minibatch\n",
    "        train_cost = 0\n",
    "        for b in range(num_batches):\n",
    "            # collect indices of current mini-batch\n",
    "            batch_inds = np.arange(b*batch_size, min((b+1)*batch_size, num_train))\n",
    "            \n",
    "            # plug in value into func and derivative\n",
    "            cost_eval,grad_eval = grad(w,batch_inds)\n",
    "            grad_eval.shape = np.shape(w)\n",
    "    \n",
    "            # take descent step with momentum\n",
    "            w = w - alpha*grad_eval\n",
    "        \n",
    "            # update training and validation cost\n",
    "            train_cost = g_flat(w,np.arange(num_train))\n",
    "\n",
    "            # record weight update, train and val costs\n",
    "            w_hist.append(unflatten(w))\n",
    "            train_hist.append(train_cost)\n",
    "\n",
    "    return w_hist,train_hist"
   ]
  },
  {
   "cell_type": "code",
   "execution_count": 6,
   "metadata": {},
   "outputs": [],
   "source": [
    "### run full batch zero-order methods ###\n",
    "num_train = P\n",
    "batch_size = P\n",
    "alpha_choice = 10**(0)\n",
    "num_epochs = 2\n",
    "w = np.random.randn(N)\n",
    "\n",
    "# full batch run\n",
    "batch_weight_hist,batch_cost_hist = gradient_descent(g, alpha_choice, num_epochs, w, num_train, batch_size)\n",
    "\n",
    "# make stochastic run\n",
    "batch_size = 1\n",
    "minibatch_weight_hist, minibatch_cost_hist = gradient_descent(g, alpha_choice, num_epochs, w, num_train, batch_size)\n",
    "\n",
    "# make mini-batch run of size 10\n",
    "batch_size = 10\n",
    "minibatch_weight_hist_2, minibatch_cost_hist_2 = gradient_descent(g, alpha_choice, num_epochs, w, num_train, batch_size)"
   ]
  },
  {
   "cell_type": "code",
   "execution_count": 7,
   "metadata": {},
   "outputs": [
    {
     "data": {
      "image/png": "[encoded data removed]",
      "text/plain": [
       "<Figure size 720x216 with 2 Axes>"
      ]
     },
     "metadata": {
      "needs_background": "light"
     },
     "output_type": "display_data"
    }
   ],
   "source": [
    "# plot runs\n",
    "section_3_11_helpers.compare_runs(batch_cost_hist,minibatch_cost_hist,minibatch_cost_hist_2)"
   ]
  },
  {
   "cell_type": "markdown",
   "metadata": {},
   "source": [
    "#### <span style=\"color:#a50e3e;\">Example 2. </span>  Minimizing a sum of quadratic functions via zero order mini-batch optimization"
   ]
  },
  {
   "cell_type": "markdown",
   "metadata": {},
   "source": [
    "In this example we will compare a full batch and two mini-batch runs (using batch-size $1$ and $10$ respectively) employing the zero order descent method *coordinate search* detailed in [Section 2.6](https://jermwatt.github.io/machine_learning_refined/notes/2_Zero_order_methods/2_6_Coordinate.html).  The function $g$ we minimize in these various runs is the same sum of random convex quadratics used in the previous Example."
   ]
  },
  {
   "cell_type": "markdown",
   "metadata": {},
   "source": [
    "Below we plot the cost function history plots associated with the full batch (shown in blue), mini-batch with batch-sizes equal to $10$ and $1$ (in magenta and black respectively).  In the left panel we show these three histories with respect to the batch-size = $1$ steps, that is we show the cost function value at every single step of the batch-size = $1$ method and plot the histories of our other mini-batch method every $10$ steps and full batch method every $100$ steps for visual comparison.  In the right panel we show all three histories only after each full epoch is complete.  In either case, we can see clearly that both mini-batch approaches descended significantly faster than their full batch version."
   ]
  },
  {
   "cell_type": "code",
   "execution_count": 8,
   "metadata": {},
   "outputs": [],
   "source": [
    "# zero order optimizer - designed to loop over mini-batches of functions\n",
    "def coordinate_search(g,alpha_choice,max_its,w,num_train,batch_size):\n",
    "    # construct set of all coordinate directions\n",
    "    directions_plus = np.eye(np.size(w),np.size(w))\n",
    "    directions_minus = - np.eye(np.size(w),np.size(w))\n",
    "    directions = np.concatenate((directions_plus,directions_minus),axis=0)\n",
    "        \n",
    "    # run coordinate search\n",
    "    weight_history = []         # container for weight history\n",
    "    cost_history = []           # container for corresponding cost function history\n",
    "    alpha = 0\n",
    "    \n",
    "    # how many mini-batches equal the entire dataset?\n",
    "    num_batches = int(np.ceil(np.divide(num_train, batch_size)))\n",
    "\n",
    "    # over the line\n",
    "    for k in range(1,max_its + 1):                   \n",
    "        # loop over each minibatch\n",
    "        train_cost = 0\n",
    "        \n",
    "        # check if diminishing steplength rule used\n",
    "        if alpha_choice == 'diminishing':\n",
    "            alpha = 1/float(k)\n",
    "        else:\n",
    "            alpha = alpha_choice\n",
    "        \n",
    "        # range over mini-batches\n",
    "        for b in range(num_batches):\n",
    "            # record weights and cost evaluation\n",
    "            weight_history.append(w)\n",
    "            cost_history.append(g(w,np.arange(num_train)))\n",
    "        \n",
    "            # collect indices of current mini-batch\n",
    "            batch_inds = np.arange(b*batch_size, min((b+1)*batch_size, num_train))\n",
    "\n",
    "            ### pick best descent direction\n",
    "            # compute all new candidate points\n",
    "            w_candidates = w + alpha*directions\n",
    "\n",
    "            # evaluate all candidates\n",
    "            evals = np.array([g(w_val,batch_inds) for w_val in w_candidates])\n",
    "\n",
    "            # if we find a real descent direction take the step in its direction\n",
    "            ind = np.argmin(evals)\n",
    "            if g(w_candidates[ind],batch_inds) < g(w,batch_inds):\n",
    "                # pluck out best descent direction\n",
    "                d = directions[ind,:]\n",
    "\n",
    "                # take step\n",
    "                w = w + alpha*d\n",
    "        \n",
    "    # record weights and cost evaluation\n",
    "    weight_history.append(w)\n",
    "    cost_history.append(g(w,np.arange(num_train)))\n",
    "    return weight_history,cost_history\n",
    "\n",
    "### run full batch zero-order methods ###\n",
    "num_train = P\n",
    "batch_size = P\n",
    "alpha_choice = 10**(-2)\n",
    "num_epochs = 2\n",
    "batch_weight_hist,batch_cost_hist = coordinate_search(g,alpha_choice,num_epochs,w,num_train,batch_size)\n",
    "\n",
    "# make stochastic run\n",
    "batch_size = 1\n",
    "minibatch_weight_hist, minibatch_cost_hist = coordinate_search(g,alpha_choice,num_epochs,w,num_train,batch_size)\n",
    "\n",
    "# make mini-batch run of size 10\n",
    "batch_size = 10\n",
    "minibatch_weight_hist_2, minibatch_cost_hist_2 = coordinate_search(g,alpha_choice,num_epochs,w,num_train,batch_size)"
   ]
  },
  {
   "cell_type": "code",
   "execution_count": 9,
   "metadata": {},
   "outputs": [
    {
     "data": {
      "image/png": "[encoded data removed]",
      "text/plain": [
       "<Figure size 720x216 with 2 Axes>"
      ]
     },
     "metadata": {
      "needs_background": "light"
     },
     "output_type": "display_data"
    }
   ],
   "source": [
    "# plot runs \n",
    "section_3_11_helpers.compare_runs(batch_cost_hist,minibatch_cost_hist,minibatch_cost_hist_2)"
   ]
  }
 ],
 "metadata": {
  "kernelspec": {
   "display_name": "Python 3 (ipykernel)",
   "language": "python",
   "name": "python3"
  },
  "language_info": {
   "codemirror_mode": {
    "name": "ipython",
    "version": 3
   },
   "file_extension": ".py",
   "mimetype": "text/x-python",
   "name": "python",
   "nbconvert_exporter": "python",
   "pygments_lexer": "ipython3",
   "version": "3.8.10"
  },
  "toc": {
   "colors": {
    "hover_highlight": "#DAA520",
    "navigate_num": "#000000",
    "navigate_text": "#333333",
    "running_highlight": "#FF0000",
    "selected_highlight": "#FFD700",
    "sidebar_border": "#EEEEEE",
    "wrapper_background": "#FFFFFF"
   },
   "moveMenuLeft": true,
   "nav_menu": {
    "height": "141.067px",
    "width": "251.1px"
   },
   "navigate_menu": true,
   "number_sections": true,
   "sideBar": true,
   "threshold": 4,
   "toc_cell": false,
   "toc_section_display": "block",
   "toc_window_display": false,
   "widenNotebook": false
  }
 },
 "nbformat": 4,
 "nbformat_minor": 2
}
