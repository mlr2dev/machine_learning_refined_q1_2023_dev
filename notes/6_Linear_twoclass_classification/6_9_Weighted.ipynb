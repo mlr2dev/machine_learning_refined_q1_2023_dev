{
 "cells": [
  {
   "cell_type": "markdown",
   "metadata": {},
   "source": [
    "## Chapter 6: Linear two-class classification"
   ]
  },
  {
   "cell_type": "markdown",
   "metadata": {},
   "source": [
    "# 6.9 Weighted Two-Class Classification"
   ]
  },
  {
   "cell_type": "markdown",
   "metadata": {},
   "source": [
    "Because our two-class classification cost functions are *summable over individual points* we can - as we did with regression in [Section 5.5](https://jermwatt.github.io/machine_learning_refined/notes/5_Linear_regression/5_5_Weighted.html) - weight individual points in order to emphasize or de-emphasize their importance to a classification model.  This is called *weighted classification*.  This idea is often implemented when dealing with *highly imbalanced* two class datasets, as we discuss here."
   ]
  },
  {
   "cell_type": "code",
   "execution_count": 1,
   "metadata": {},
   "outputs": [],
   "source": [
    "# append path for local library, data, and image import\n",
    "import sys\n",
    "sys.path.append('./chapter_6_library')\n",
    "sys.path.append('./chapter_6_datasets') \n",
    "sys.path.append('./chapter_6_videos') \n",
    "\n",
    "# import section helper\n",
    "import section_6_9_helpers\n",
    "\n",
    "# dataset paths\n",
    "data_path_1 = 'chapter_6_datasets/census_data.csv'\n",
    "data_path_2 = 'chapter_6_datasets/3d_classification_data_v2_mbalanced.csv'\n",
    "\n",
    "# video paths\n",
    "video_path_1 = 'chapter_6_videos/animation_2.mp4'\n",
    "\n",
    "# standard imports\n",
    "import matplotlib.pyplot as plt\n",
    "import IPython\n",
    "\n",
    "# import autograd-wrapped numpy\n",
    "import autograd.numpy as np\n",
    "\n",
    "# this is needed to compensate for matplotlib notebook's tendancy to blow up images when plotted inline\n",
    "%matplotlib inline\n",
    "from matplotlib import rcParams\n",
    "rcParams['figure.autolayout'] = True\n",
    "\n",
    "%load_ext autoreload\n",
    "%autoreload 2"
   ]
  },
  {
   "cell_type": "markdown",
   "metadata": {
    "slideshow": {
     "slide_type": "slide"
    }
   },
   "source": [
    "## Weighted two-class classification"
   ]
  },
  {
   "cell_type": "markdown",
   "metadata": {
    "slideshow": {
     "slide_type": "subslide"
    }
   },
   "source": [
    "Just as we saw with regression in [Section 5.5](https://jermwatt.github.io/machine_learning_refined/notes/5_Linear_regression/5_5_Weighted.html), weighted classification cost functions naturally arise due to epeated points in a dataset.  When collecting metadata (e.g., census data) it is not so uncommon collect duplicate entries - multiple people having similar/the same stats based on a given survey.  "
   ]
  },
  {
   "cell_type": "markdown",
   "metadata": {},
   "source": [
    "Below we take a standard census dataset and plot a subset of it along a single input feature.  With only one feature taken into account we end up with multiple entries of the same datapoint, which we show visually via the radius of each point (the more times a given datapoint appears in the dataset the larger we make the radius).  These datapoints should not be thrown away - they did not arise due to some error in data collecting / storage -  they represent the true dataset.    "
   ]
  },
  {
   "cell_type": "code",
   "execution_count": 2,
   "metadata": {
    "slideshow": {
     "slide_type": "subslide"
    }
   },
   "outputs": [
    {
     "data": {
      "image/png": "[encoded data removed]",
      "text/plain": [
       "<Figure size 648x360 with 1 Axes>"
      ]
     },
     "metadata": {
      "needs_background": "light"
     },
     "output_type": "display_data"
    }
   ],
   "source": [
    "demo1 = section_6_9_helpers.static_visualizer()\n",
    "demo1.plot(data_path_1)"
   ]
  },
  {
   "cell_type": "markdown",
   "metadata": {
    "slideshow": {
     "slide_type": "subslide"
    }
   },
   "source": [
    "Just as with a regression cost, if we examine any two-class classification cost it will 'collapse', with summands containing identical points combining naturally.  One can see this by performing the same kind of simple exercise used in [Section 5.5](https://jermwatt.github.io/machine_learning_refined/notes/5_Linear_regression/5_5_Weighted.html) to illustrate this fact for regression.  This leads to the notion of *weighting* two-class cost functions, like e.g., the weighted softmax below (written using our general `model` notation used)\n",
    "\n",
    "\\begin{equation}\n",
    "g\\left(\\mathbf{w}\\right) = \\sum_{p=1}^P\\beta_p\\,\\text{log}\\left(1 + e^{-y_p\\text{model}\\left(x_p,\\mathbf{w}\\right)}\\right).\n",
    "\\end{equation}\n",
    "\n",
    "Here the values $\\beta_1,\\,\\beta_2,\\,...,\\,\\beta_P$ are fixed *point-wise* weights.  That is, a unique point $\\left(x_p,\\,y_p\\right)$ in the dataset has weight $\\beta_p = 1$ whereas if this point is repeated $R$ times in the dataset then one instance of it will have weight $\\beta_p = R$ while the others have weight $\\beta_p = 0$.\n",
    "\n",
    "Since these weights are fixed (i.e., they are *not* parameters that need to be tuned, like $\\mathbf{w}$) we can minimize a weighted classification cost precisely as we would any other e.g,. via a local optimization scheme like gradient descent or Newton's method."
   ]
  },
  {
   "cell_type": "code",
   "execution_count": 3,
   "metadata": {
    "slideshow": {
     "slide_type": "subslide"
    }
   },
   "outputs": [],
   "source": [
    "# a Python implementation of the weighted two-class softmax cost function\n",
    "# setup to compute over mini-batches if desired\n",
    "def softmax(w,x,y,beta,iter):\n",
    "    # get batch of points\n",
    "    x_p = x[:,iter]\n",
    "    y_p = y[:,iter]\n",
    "    beta_p = beta[:,iter]\n",
    "\n",
    "    # compute cost over batch        \n",
    "    cost = np.sum(beta_p*np.log(1 + np.exp(-y_p*model(x_p,w))))\n",
    "    return cost/float(np.size(y_p))"
   ]
  },
  {
   "cell_type": "markdown",
   "metadata": {},
   "source": [
    "Just as with regression, we can also think of *assigning* these fixed weight values to points ourselves based on our 'confidence' of the legitimacy of a datapoint.  If we believe that a point is very trustworthy we can set its corresponding weight $\\beta_p$ closer to $1$, and the more untrustworthy we find a point the smaller we set $\\beta_p$ in the range $0 \\leq \\beta_p \\leq 1$ where $\\beta_p = 0$ implies we do not trust the point at all.  In making these weight selections we of course determine *how important each datapoint is* in the training of the model."
   ]
  },
  {
   "cell_type": "markdown",
   "metadata": {},
   "source": [
    "## Dealing with imbalanced datasets via weighted classification"
   ]
  },
  {
   "cell_type": "markdown",
   "metadata": {},
   "source": [
    "Weighted classification - in the manner detailed above - is often used to deal with *imbalanced datasets*.  These are datasets which contain far more examples of one class of data than the other.  With such datasets it is often easy to achieve a high accuracy by *misclassifying points from the smaller class*.  For example, if a two-class dataset consisted of $90\\%$ points with label value $-1$ and $10\\%$ points with label $+1$, then simply classifying all datapoints to the $-1$ class would provide $90\\%$ accuracy.  \n",
    "\n",
    "This idea of 'sacrificing' members of the smaller class by misclassifying them (instead of members from the majority class) is - depending on the application - not very desirable.  For example\n",
    "\n",
    "- if the classification determines whether or not someone has a particularly rare but deadly disease that requires further examination one would likely rather misclassify a healthly individual (and give them further testing) then miss someone with the disease\n",
    "\n",
    "\n",
    "- if the classification determines whether or not a particular financial transaction was *fraudulant*, one would likely rather misclassify a standard transaction (to review further or alert a customer) than miss an actually fraudulunt transaction"
   ]
  },
  {
   "cell_type": "markdown",
   "metadata": {
    "slideshow": {
     "slide_type": "subslide"
    }
   },
   "source": [
    "One way of ameliorating this issue is to use a weighted classification cost to alter the behavior of the learned classifier so that it weights points in the smaller class more, and points in the larger class less"
   ]
  },
  {
   "cell_type": "markdown",
   "metadata": {},
   "source": [
    "In order to produce this outcome it is common to assign such weigths *inversely proportional to the number of members of each class*.  That is if we denote $\\Omega_{+1}$ and $\\Omega{-1}$ index sets for the points in classes $+1$ and $-1$ respectively, then first note that $P = \\left\\vert \\Omega_{+1} \\right\\vert + \\left\\vert \\Omega_{-1} \\right\\vert$.  Then denoting $\\beta_{+1}$ and $\\beta_{-1}$ the weight for each member of class $+1$ and $-1$ respectively we can set these class-wise weights inversely proportional to the number of points in each class as\n",
    "\n",
    "\\begin{array}\n",
    "\\\n",
    "\\beta_{+1} = \\frac{1}{\\left\\vert \\Omega_{+1} \\right\\vert} \\\\\n",
    "\\beta_{-1} = \\frac{1}{\\left\\vert \\Omega_{-1} \\right\\vert}. \\\\\n",
    "\\end{array}"
   ]
  },
  {
   "cell_type": "markdown",
   "metadata": {
    "slideshow": {
     "slide_type": "subslide"
    }
   },
   "source": [
    "Below weight of minority class is increased as you move the animation slider from left to right, with new classification shown as result (and point size of minority red class increased for visualization).  As you increase the weighting on minority class members you incentivise learned classifier to classify these points correctly."
   ]
  },
  {
   "cell_type": "code",
   "execution_count": 4,
   "metadata": {
    "slideshow": {
     "slide_type": "subslide"
    }
   },
   "outputs": [
    {
     "data": {
      "image/png": "[encoded data removed]",
      "text/plain": [
       "<Figure size 360x360 with 1 Axes>"
      ]
     },
     "metadata": {
      "needs_background": "light"
     },
     "output_type": "display_data"
    }
   ],
   "source": [
    "demo4 = section_6_9_helpers.animation_visualizer()\n",
    "demo4.animate_weightings(video_path_1,data_path_2,num_slides = 50,fps=20)"
   ]
  },
  {
   "cell_type": "code",
   "execution_count": 5,
   "metadata": {},
   "outputs": [
    {
     "data": {
      "text/html": [
       "\n",
       "<video width=\"1000\" height=\"400\" controls loop>\n",
       "  <source src='chapter_6_videos/animation_2.mp4' type=\"video/mp4\">\n",
       "  </video>\n"
      ],
      "text/plain": [
       "<IPython.core.display.HTML object>"
      ]
     },
     "execution_count": 5,
     "metadata": {},
     "output_type": "execute_result"
    }
   ],
   "source": [
    "# load video into notebook\n",
    "from IPython.display import HTML\n",
    "HTML(\"\"\"\n",
    "<video width=\"1000\" height=\"400\" controls loop>\n",
    "  <source src='\"\"\" + video_path_1 + \"\"\"' type=\"video/mp4\">\n",
    "  </video>\n",
    "\"\"\")"
   ]
  }
 ],
 "metadata": {
  "kernelspec": {
   "display_name": "Python 3 (ipykernel)",
   "language": "python",
   "name": "python3"
  },
  "language_info": {
   "codemirror_mode": {
    "name": "ipython",
    "version": 3
   },
   "file_extension": ".py",
   "mimetype": "text/x-python",
   "name": "python",
   "nbconvert_exporter": "python",
   "pygments_lexer": "ipython3",
   "version": "3.8.10"
  },
  "toc": {
   "colors": {
    "hover_highlight": "#DAA520",
    "navigate_num": "#000000",
    "navigate_text": "#333333",
    "running_highlight": "#FF0000",
    "selected_highlight": "#FFD700",
    "sidebar_border": "#EEEEEE",
    "wrapper_background": "#FFFFFF"
   },
   "moveMenuLeft": true,
   "nav_menu": {
    "height": "86px",
    "width": "252px"
   },
   "navigate_menu": true,
   "number_sections": true,
   "sideBar": true,
   "threshold": 4,
   "toc_cell": false,
   "toc_section_display": "block",
   "toc_window_display": false,
   "widenNotebook": false
  },
  "widgets": {
   "application/vnd.jupyter.widget-state+json": {
    "state": {},
    "version_major": 1,
    "version_minor": 0
   }
  }
 },
 "nbformat": 4,
 "nbformat_minor": 1
}
