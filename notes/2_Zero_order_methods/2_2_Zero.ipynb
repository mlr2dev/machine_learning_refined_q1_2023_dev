{
  "cells": [
    {
      "cell_type": "markdown",
      "metadata": {
        "id": "view-in-github",
        "colab_type": "text"
      },
      "source": [
        "<a href=\"https://colab.research.google.com/github/mlr2dev/machine_learning_refined_q1_2023_dev/blob/r_branch/notes/2_Zero_order_methods/2_2_Zero.ipynb\" target=\"_parent\"><img src=\"https://colab.research.google.com/assets/colab-badge.svg\" alt=\"Open In Colab\"/></a>"
      ]
    },
    {
      "cell_type": "markdown",
      "metadata": {
        "id": "bDjThHwdYuAU"
      },
      "source": [
        "## Chapter 2: Zero order methods"
      ]
    },
    {
      "cell_type": "markdown",
      "metadata": {
        "id": "Ndm3f2RBYuAX"
      },
      "source": [
        "# 2.2 The Zero-Order Optimality Condition"
      ]
    },
    {
      "cell_type": "markdown",
      "metadata": {
        "id": "aDvOYNkjYuAY"
      },
      "source": [
        "The mathematical problem of the smallest point(s) of a function - referred to as a function's *global minimum* (one point) or *global minima* (many) - is a centuries old pursuit and has applications throughout the sciences and engineering.  In this Section we describe most basic mathematical definition of a function's minima - called the *zero-order condition*. "
      ]
    },
    {
      "cell_type": "code",
      "execution_count": 1,
      "metadata": {
        "id": "gSwbvu2YYuAY",
        "outputId": "2e6a4221-e5dc-4dce-9d97-bfdf39fb111d",
        "colab": {
          "base_uri": "https://localhost:8080/"
        }
      },
      "outputs": [
        {
          "output_type": "stream",
          "name": "stdout",
          "text": [
            "Looking in indexes: https://pypi.org/simple, https://us-python.pkg.dev/colab-wheels/public/simple/\n",
            "Collecting github-clone\n",
            "  Downloading github_clone-1.2.0-py3-none-any.whl (9.1 kB)\n",
            "Collecting docopt>=0.6.2\n",
            "  Downloading docopt-0.6.2.tar.gz (25 kB)\n",
            "  Preparing metadata (setup.py) ... \u001b[?25l\u001b[?25hdone\n",
            "Requirement already satisfied: requests>=2.20.0 in /usr/local/lib/python3.9/dist-packages (from github-clone) (2.25.1)\n",
            "Requirement already satisfied: idna<3,>=2.5 in /usr/local/lib/python3.9/dist-packages (from requests>=2.20.0->github-clone) (2.10)\n",
            "Requirement already satisfied: chardet<5,>=3.0.2 in /usr/local/lib/python3.9/dist-packages (from requests>=2.20.0->github-clone) (4.0.0)\n",
            "Requirement already satisfied: urllib3<1.27,>=1.21.1 in /usr/local/lib/python3.9/dist-packages (from requests>=2.20.0->github-clone) (1.26.14)\n",
            "Requirement already satisfied: certifi>=2017.4.17 in /usr/local/lib/python3.9/dist-packages (from requests>=2.20.0->github-clone) (2022.12.7)\n",
            "Building wheels for collected packages: docopt\n",
            "  Building wheel for docopt (setup.py) ... \u001b[?25l\u001b[?25hdone\n",
            "  Created wheel for docopt: filename=docopt-0.6.2-py2.py3-none-any.whl size=13723 sha256=faca28098f325add216c692af677e3803e4ec9055ec693bb85fbb40ad03c2853\n",
            "  Stored in directory: /root/.cache/pip/wheels/70/4a/46/1309fc853b8d395e60bafaf1b6df7845bdd82c95fd59dd8d2b\n",
            "Successfully built docopt\n",
            "Installing collected packages: docopt, github-clone\n",
            "Successfully installed docopt-0.6.2 github-clone-1.2.0\n",
            "Cloning into 'chapter_2_library'...\n",
            "done.\n"
          ]
        }
      ],
      "source": [
        "# import standard libs\n",
        "import os\n",
        "\n",
        "# if on collab pull required subdirectories\n",
        "if os.getenv(\"COLAB_RELEASE_TAG\"): \n",
        "    # install github clone - allows for easy cloning of subdirectories\n",
        "    !pip install github-clone\n",
        "    from pathlib import Path \n",
        "\n",
        "    # clone library subdirectory\n",
        "    if not Path('chapter_2_library').is_dir():\n",
        "        !ghclone https://github.com/mlr2dev/machine_learning_refined_q1_2023_dev/tree/r_branch/notes/2_Zero_order_methods/chapter_2_library\n",
        "    else:\n",
        "        print('chapter_2_library already cloned!')\n",
        "\n",
        "# append path for local library, data, and image import\n",
        "import sys\n",
        "sys.path.append('./chapter_2_library')\n",
        "\n",
        "# import section helper\n",
        "import section_2_2_helpers\n",
        "\n",
        "# standard imports\n",
        "import matplotlib.pyplot as plt\n",
        "\n",
        "# import autograd-wrapped numpy\n",
        "import autograd.numpy as np\n",
        "\n",
        "# this is needed to compensate for matplotlib notebook's tendancy to blow up images when plotted inline\n",
        "%matplotlib inline\n",
        "from matplotlib import rcParams\n",
        "rcParams['figure.autolayout'] = True\n",
        "\n",
        "%load_ext autoreload\n",
        "%autoreload 2"
      ]
    },
    {
      "cell_type": "markdown",
      "metadata": {
        "id": "mdV_-VUSYuAa"
      },
      "source": [
        "## The zero order definitions"
      ]
    },
    {
      "cell_type": "markdown",
      "metadata": {
        "id": "9W1Z8qJNYuAa"
      },
      "source": [
        "In many areas of science and engineering one is interested in finding the smallest points - or the global minima - of a particular function.  For a function $g(\\mathbf{w})$ taking in a general $N$ dimensional input $\\mathbf{w}$ this problem is formally phrased as \n",
        "\n",
        "\\begin{equation}\n",
        "\\underset{\\mathbf{w}}{\\mbox{minimize}}\\,\\,\\,\\,g\\left(\\mathbf{w}\\right)\n",
        "\\end{equation}\n",
        "\n",
        "This says formally 'look over every possible input $\\mathbf{w}$ and find the one that gives the smallest value of $g(\\mathbf{w})$'."
      ]
    },
    {
      "cell_type": "markdown",
      "metadata": {
        "id": "8kB9o5viYuAa"
      },
      "source": [
        "When a function takes in only one or two inputs we can attempt to identify its minima visually by plotting it over a large swath of its input space.  However this idea completely fails when a function takes in three or more inputs - since obviously we can no longer effectively visualize it.  However because we are such visual creatures it always helps to draw pictures to ease the translation from intuition to mathematical definition.  \n",
        "So lets visually examine a few simple examples.  In each case keep in mind how you would describe a minimum point - in plain English.  After each picture we will then codify this intuitive understanding - forming our first formal definition of minimum points."
      ]
    },
    {
      "cell_type": "markdown",
      "metadata": {
        "id": "vmAPkv-8YuAa"
      },
      "source": [
        "#### <span style=\"color:#a50e3e;\">Example 1: </span> Global minima of a quadratic"
      ]
    },
    {
      "cell_type": "markdown",
      "metadata": {
        "id": "lPhHQZ_tYuAa"
      },
      "source": [
        "Below we plot the simple quadratic\n",
        "\n",
        "\\begin{equation}\n",
        "g(w) = w^2\n",
        "\\end{equation}\n",
        "\n",
        "over a short region of its input space.  Examining the left panel below, what can we say defines the smallest value(s) of the function here?  Certainly - to state the obvious - that it is smaller than any other point on the function."
      ]
    },
    {
      "cell_type": "code",
      "execution_count": 2,
      "metadata": {
        "id": "0Q_nBYgcYuAb",
        "outputId": "c9af09cc-f49b-4e4e-eee4-dcdc9fa30756",
        "colab": {
          "base_uri": "https://localhost:8080/",
          "height": 225
        }
      },
      "outputs": [
        {
          "output_type": "display_data",
          "data": {
            "text/plain": [
              "<Figure size 432x216 with 2 Axes>"
            ],
            "image/png": "[encoded data removed]"
          },
          "metadata": {
            "needs_background": "light"
          }
        }
      ],
      "source": [
        "# specify function\n",
        "func = lambda w: w**2\n",
        "\n",
        "# use custom plotter to display function\n",
        "section_2_2_helpers.show_stationary_1func(func=func)"
      ]
    },
    {
      "cell_type": "markdown",
      "metadata": {
        "id": "YuDAK7GTYuAc"
      },
      "source": [
        "More specifically the smallest value - the global minimum of this function - seemingly occurs close to $w^{\\star} = 0$ (we mark this point $(0,g(0))$ in the right panel with a green dot). \n",
        "\n",
        "Formally then to state mathematically that a point $w^{\\star}$ gives the smallest point on the function, that it is smaller than any other point on the function, is to say \n",
        "\n",
        "\\begin{equation}\n",
        "g(w^{\\star}) \\leq g(w) \\,\\,\\,\\text{for all $w$}.\n",
        "\\end{equation}\n",
        "\n",
        "This direct translation of what we know to be intuitively true into mathematics is called the *zero-order definition of a global minimum point*."
      ]
    },
    {
      "cell_type": "markdown",
      "metadata": {
        "id": "iUZ9VJF3YuAc"
      },
      "source": [
        "#### <span style=\"color:#a50e3e;\">Example 2: </span> Global maxima of a quadratic"
      ]
    },
    {
      "cell_type": "markdown",
      "metadata": {
        "id": "F5elSWSkYuAc"
      },
      "source": [
        "Remember what happens if we multiply the quadratic function in the previous example by $-1$, as plotted below.  The function flips upside down - now its global minima lie at $w^{\\star} = \\pm \\infty$.  Now the point $w^{\\star} = 0$ that used to be a *global minimum* is a *global maximum* - i.e., the largest point on the function (and is marked in green in the right panel below).  "
      ]
    },
    {
      "cell_type": "code",
      "execution_count": 3,
      "metadata": {
        "id": "nro40b3RYuAd",
        "outputId": "9c47db6b-f01a-43e3-b734-afa33df590cf",
        "colab": {
          "base_uri": "https://localhost:8080/",
          "height": 225
        }
      },
      "outputs": [
        {
          "output_type": "display_data",
          "data": {
            "text/plain": [
              "<Figure size 432x216 with 2 Axes>"
            ],
            "image/png": "[encoded data removed]"
          },
          "metadata": {
            "needs_background": "light"
          }
        }
      ],
      "source": [
        "# specify function\n",
        "func = lambda w: -w**2\n",
        "\n",
        "# use custom plotter to display function\n",
        "section_2_2_helpers.show_stationary_1func(func=func)"
      ]
    },
    {
      "cell_type": "markdown",
      "metadata": {
        "id": "dzKwWXalYuAd"
      },
      "source": [
        "How do we formally define a *global maximum*?  Just like the global minimum in the previous example - it is the point that is larger than any other on the function i.e., \n",
        "\n",
        "\\begin{equation}\n",
        "g(w^{\\star}) \\geq g(w) \\,\\,\\,\\text{for all $w$}.\n",
        "\\end{equation}\n",
        "\n",
        "This direct translation of what we know to be intuitively true into mathematics is called the *zero-order definition of a global maximum point*."
      ]
    },
    {
      "cell_type": "markdown",
      "metadata": {
        "id": "DKrjrATGYuAd"
      },
      "source": [
        "These concepts of *minima* and *maxima* of a function are always related to each via multiplication by $-1$.  That is, any point that is a minima of a function $g$ is a maxima of the function $-g$, and vice-versa.  \n",
        "\n",
        "To express our pursuit of a global *maxima* of a function we write\n",
        "\n",
        "\\begin{equation}\n",
        "\\underset{\\mathbf{w}}{\\mbox{maximize}}\\,\\,\\,\\,g\\left(\\mathbf{w}\\right).\n",
        "\\end{equation}\n",
        "\n",
        "But since minima and maxima are so related, we can always express this in terms of our $\\mbox{minimize}$ notation as\n",
        "\n",
        "\\begin{equation}\n",
        "\\underset{\\mathbf{w}}{\\mbox{maximize}}\\,\\,\\,\\,g\\left(\\mathbf{w}\\right) = \n",
        "-\\underset{\\mathbf{w}}{\\mbox{minimize}}\\,\\,\\,\\,g\\left(\\mathbf{w}\\right).\n",
        "\\end{equation}"
      ]
    },
    {
      "cell_type": "markdown",
      "metadata": {
        "id": "JFAF9BLuYuAd"
      },
      "source": [
        "#### <span style=\"color:#a50e3e;\">Example 3:</span>  Global minima/maxima of a sinusoid"
      ]
    },
    {
      "cell_type": "markdown",
      "metadata": {
        "id": "MVWW71GLYuAd"
      },
      "source": [
        "Let us look at the sinusoid function\n",
        "\n",
        "\\begin{equation}\n",
        "g(w) = \\text{sin}(2w)\n",
        "\\end{equation}\n",
        "\n",
        "plotted by the next Python cell, looking to visually identify both minima and maxima.  Here we can clearly see that - over the range we have plotted the function - that there are two global minima and two global maxima (marked by green dots in the right panel).  We can imagine as well of course that there are further minima and maxima (here one exists at every $4k+3$ multiple of $\\frac{\\pi}{2}$ for integer $k$'s).  So this is just an example where - technically speaking - the function has an infinite number of global minima and maxima."
      ]
    },
    {
      "cell_type": "code",
      "execution_count": 4,
      "metadata": {
        "id": "Y93BkbiUYuAe",
        "outputId": "58aacf0a-7634-4146-efa9-b4b9b4004bba",
        "colab": {
          "base_uri": "https://localhost:8080/",
          "height": 225
        }
      },
      "outputs": [
        {
          "output_type": "display_data",
          "data": {
            "text/plain": [
              "<Figure size 432x216 with 2 Axes>"
            ],
            "image/png": "[encoded data removed]"
          },
          "metadata": {
            "needs_background": "light"
          }
        }
      ],
      "source": [
        "# specify function\n",
        "func = lambda w: np.sin(3*w)\n",
        "\n",
        "# use custom plotter to display function\n",
        "section_2_2_helpers.show_stationary_1func(func=func)"
      ]
    },
    {
      "cell_type": "markdown",
      "metadata": {
        "id": "ghvjqHdzYuAe"
      },
      "source": [
        "#### <span style=\"color:#a50e3e;\">Example 4:</span>  Minima and maxima of the sum of a sinusoid and a quadratic"
      ]
    },
    {
      "cell_type": "markdown",
      "metadata": {
        "id": "NN9JlcMPYuAe"
      },
      "source": [
        "Lets look at a weighted sum of the previous two examples, the function \n",
        "\n",
        "\\begin{equation}\n",
        "g(w) = \\text{sin}(3w) + 0.1w^2\n",
        "\\end{equation}\n",
        "\n",
        "over a short region of its input space.  Examining the left panel below, what can we say defines the smallest value(s) of the function here?"
      ]
    },
    {
      "cell_type": "code",
      "execution_count": 5,
      "metadata": {
        "id": "SlHUvsJiYuAe",
        "outputId": "3628b0ce-2d8e-4ea9-a936-40cfede38dce",
        "colab": {
          "base_uri": "https://localhost:8080/",
          "height": 225
        }
      },
      "outputs": [
        {
          "output_type": "display_data",
          "data": {
            "text/plain": [
              "<Figure size 432x216 with 2 Axes>"
            ],
            "image/png": "[encoded data removed]"
          },
          "metadata": {
            "needs_background": "light"
          }
        }
      ],
      "source": [
        "# specify function\n",
        "func = lambda w: np.sin(3*w) + 0.1*w**2\n",
        "\n",
        "# use custom plotter to display function\n",
        "section_2_2_helpers.show_stationary_1func(func=func)"
      ]
    },
    {
      "cell_type": "markdown",
      "metadata": {
        "id": "LDZfvJiUYuAf"
      },
      "source": [
        "Here we have a global minimum around $w^{\\star} = -0.5$ and a global maximum around $w^{\\star} = 2.7$.  We also have minima and maxima that are *locally optimal* - for example the point around $w^{\\star} = 0.8$ is a local maximum.  Likewise the point near $w^{\\star} = 1.5$ is a *local minimum*  - since it is the smallest point on the function nearby.  We can formally say that the point $w^{\\star}$ is a local minimum of the function $g(w^{\\star})$ as\n",
        "\n",
        "\\begin{equation}\n",
        "g(w^{\\star}) \\leq g(w) \\,\\,\\,\\text{for all $w$ near $w^{\\star}$}\n",
        "\\end{equation}\n",
        "\n",
        "The statement $\\text{for all $w$ near $w^{\\star}$}$ is relative, and simply describes the fact that the point $w^{\\star}$ is smaller than its neighboring points.  This is the *zero-order definition of local minima*.  The same formal definition can be made for local maximum points as well, switching the $\\leq$ sign to $\\geq$, just as in the case of global minima/maxima."
      ]
    },
    {
      "cell_type": "markdown",
      "metadata": {
        "id": "8WNZD3fqYuAf"
      },
      "source": [
        "##  The zero order condition for optimality"
      ]
    },
    {
      "cell_type": "markdown",
      "metadata": {
        "id": "hvIQiJBCYuAf"
      },
      "source": [
        "From these examples we have seen how to formally define global minima/maxima as well as the local minima/maxima of functions we can visualize.  These formal definitions directly generalize to a function of any dimension - in general taking in $N$ inputs.  Packaged together these zero-order conditions are often referred to as *the zero-order condition for optimality*.\n",
        "\n",
        "> **The zero order condition for optimality:** A point $\\mathbf{w}^{\\star}$ is \n",
        "- a global minimum of $g(\\mathbf{w})$ if and only if $g(\\mathbf{w}^{\\star}) \\leq  g(\\mathbf{w}) \\,\\,\\,\\text{for all $\\mathbf{w}$}$  \n",
        "- a global maximum of $g(\\mathbf{w})$ if and only if $g(\\mathbf{w}^{\\star}) \\geq  g(\\mathbf{w}) \\,\\,\\,\\text{for all $\\mathbf{w}$}$ \n",
        "- a local minimum of $g(\\mathbf{w})$ if and only if $g(\\mathbf{w}^{\\star}) \\leq  g(\\mathbf{w}) \\,\\,\\,\\text{for all $\\mathbf{w}$ near $\\mathbf{w}^{\\star}$}$  \n",
        "- a local maximum of $g(\\mathbf{w})$ if and only if $g(\\mathbf{w}^{\\star}) \\geq  g(\\mathbf{w}) \\,\\,\\,\\text{for all $\\mathbf{w}$ near $\\mathbf{w}^{\\star}$}$  "
      ]
    },
    {
      "cell_type": "markdown",
      "metadata": {
        "id": "Wma5DDBnYuAf"
      },
      "source": [
        "##  The zero order jargon, in context"
      ]
    },
    {
      "cell_type": "markdown",
      "metadata": {
        "id": "HMhla9QuYuAg"
      },
      "source": [
        "Here we have seen zero-order definitions of various important points of a function.  Why are these called *zero-order* conditions?  Because each of their definitions involves only a function itself - and nothing else.  This bit of jargon - 'zero-order'- is commonly used when discussing a mathematical function in the context of calculus where we can have *first-order*, *second-order*, etc., derivatives e.g., a zero-order derivative of a function is just the function itself.  In the future we will see *higher order* definitions of optimal points e.g., *first-order* definitions that involve the first derivative of a function and *second-order* definitions involving a function's second derivative."
      ]
    }
  ],
  "metadata": {
    "kernelspec": {
      "display_name": "Python 3 (ipykernel)",
      "language": "python",
      "name": "python3"
    },
    "language_info": {
      "codemirror_mode": {
        "name": "ipython",
        "version": 3
      },
      "file_extension": ".py",
      "mimetype": "text/x-python",
      "name": "python",
      "nbconvert_exporter": "python",
      "pygments_lexer": "ipython3",
      "version": "3.8.10"
    },
    "toc": {
      "colors": {
        "hover_highlight": "#DAA520",
        "navigate_num": "#000000",
        "navigate_text": "#333333",
        "running_highlight": "#FF0000",
        "selected_highlight": "#FFD700",
        "sidebar_border": "#EEEEEE",
        "wrapper_background": "#FFFFFF"
      },
      "moveMenuLeft": true,
      "nav_menu": {
        "height": "103px",
        "width": "252px"
      },
      "navigate_menu": true,
      "number_sections": false,
      "sideBar": true,
      "threshold": 4,
      "toc_cell": false,
      "toc_section_display": "block",
      "toc_window_display": false,
      "widenNotebook": false
    },
    "colab": {
      "provenance": [],
      "include_colab_link": true
    }
  },
  "nbformat": 4,
  "nbformat_minor": 0
}